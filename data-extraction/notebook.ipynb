{
 "cells": [
  {
   "cell_type": "code",
   "execution_count": 16,
   "metadata": {},
   "outputs": [],
   "source": [
    "# Import all necessary libraries\n",
    "import pandas as pd\n",
    "import numpy as np"
   ]
  },
  {
   "cell_type": "code",
   "execution_count": 17,
   "metadata": {},
   "outputs": [
    {
     "data": {
      "text/html": [
       "<div>\n",
       "<style scoped>\n",
       "    .dataframe tbody tr th:only-of-type {\n",
       "        vertical-align: middle;\n",
       "    }\n",
       "\n",
       "    .dataframe tbody tr th {\n",
       "        vertical-align: top;\n",
       "    }\n",
       "\n",
       "    .dataframe thead th {\n",
       "        text-align: right;\n",
       "    }\n",
       "</style>\n",
       "<table border=\"1\" class=\"dataframe\">\n",
       "  <thead>\n",
       "    <tr style=\"text-align: right;\">\n",
       "      <th></th>\n",
       "      <th>name</th>\n",
       "      <th>season</th>\n",
       "      <th>country</th>\n",
       "      <th>circuit</th>\n",
       "      <th>constructor</th>\n",
       "      <th>ride_class</th>\n",
       "    </tr>\n",
       "  </thead>\n",
       "  <tbody>\n",
       "    <tr>\n",
       "      <th>0</th>\n",
       "      <td>Pedro Acosta</td>\n",
       "      <td>2023</td>\n",
       "      <td>ES</td>\n",
       "      <td>Circuit Of The Americas</td>\n",
       "      <td>Kalex</td>\n",
       "      <td>Moto2™</td>\n",
       "    </tr>\n",
       "    <tr>\n",
       "      <th>1</th>\n",
       "      <td>Ivan Ortolá</td>\n",
       "      <td>2023</td>\n",
       "      <td>ES</td>\n",
       "      <td>Circuit Of The Americas</td>\n",
       "      <td>KTM</td>\n",
       "      <td>Moto3™</td>\n",
       "    </tr>\n",
       "    <tr>\n",
       "      <th>2</th>\n",
       "      <td>Alex Rins</td>\n",
       "      <td>2023</td>\n",
       "      <td>ES</td>\n",
       "      <td>Circuit Of The Americas</td>\n",
       "      <td>Honda</td>\n",
       "      <td>MotoGP™</td>\n",
       "    </tr>\n",
       "    <tr>\n",
       "      <th>3</th>\n",
       "      <td>Tatsuki Suzuki</td>\n",
       "      <td>2023</td>\n",
       "      <td>JP</td>\n",
       "      <td>Termas de Río Hondo</td>\n",
       "      <td>Honda</td>\n",
       "      <td>Moto3™</td>\n",
       "    </tr>\n",
       "    <tr>\n",
       "      <th>4</th>\n",
       "      <td>Tony Arbolino</td>\n",
       "      <td>2023</td>\n",
       "      <td>IT</td>\n",
       "      <td>Termas de Río Hondo</td>\n",
       "      <td>Kalex</td>\n",
       "      <td>Moto2™</td>\n",
       "    </tr>\n",
       "  </tbody>\n",
       "</table>\n",
       "</div>"
      ],
      "text/plain": [
       "             name  season country                  circuit  \\\n",
       "0    Pedro Acosta    2023      ES  Circuit Of The Americas   \n",
       "1     Ivan Ortolá    2023      ES  Circuit Of The Americas   \n",
       "2       Alex Rins    2023      ES  Circuit Of The Americas   \n",
       "3  Tatsuki Suzuki    2023      JP      Termas de Río Hondo   \n",
       "4   Tony Arbolino    2023      IT      Termas de Río Hondo   \n",
       "\n",
       "                   constructor                     ride_class  \n",
       "0              Kalex                         Moto2™            \n",
       "1                KTM                         Moto3™            \n",
       "2              Honda                        MotoGP™            \n",
       "3              Honda                         Moto3™            \n",
       "4              Kalex                         Moto2™            "
      ]
     },
     "execution_count": 17,
     "metadata": {},
     "output_type": "execute_result"
    }
   ],
   "source": [
    "df = pd.read_csv(\"data/raw/motogp.csv\")\n",
    "df.head()"
   ]
  },
  {
   "cell_type": "code",
   "execution_count": 18,
   "metadata": {},
   "outputs": [
    {
     "data": {
      "text/plain": [
       "(3352, 6)"
      ]
     },
     "execution_count": 18,
     "metadata": {},
     "output_type": "execute_result"
    }
   ],
   "source": [
    "df.shape"
   ]
  },
  {
   "cell_type": "code",
   "execution_count": 19,
   "metadata": {},
   "outputs": [
    {
     "name": "stdout",
     "output_type": "stream",
     "text": [
      "<class 'pandas.core.frame.DataFrame'>\n",
      "RangeIndex: 3352 entries, 0 to 3351\n",
      "Data columns (total 6 columns):\n",
      " #   Column       Non-Null Count  Dtype \n",
      "---  ------       --------------  ----- \n",
      " 0   name         3352 non-null   object\n",
      " 1   season       3352 non-null   int64 \n",
      " 2   country      3279 non-null   object\n",
      " 3   circuit      3352 non-null   object\n",
      " 4   constructor  3322 non-null   object\n",
      " 5   ride_class   3352 non-null   object\n",
      "dtypes: int64(1), object(5)\n",
      "memory usage: 157.2+ KB\n"
     ]
    }
   ],
   "source": [
    "df.info()"
   ]
  },
  {
   "cell_type": "code",
   "execution_count": 20,
   "metadata": {},
   "outputs": [
    {
     "data": {
      "text/plain": [
       "count     3279\n",
       "unique      28\n",
       "top         IT\n",
       "freq       887\n",
       "Name: country, dtype: object"
      ]
     },
     "execution_count": 20,
     "metadata": {},
     "output_type": "execute_result"
    }
   ],
   "source": [
    "df.country.describe()"
   ]
  },
  {
   "cell_type": "code",
   "execution_count": 21,
   "metadata": {},
   "outputs": [],
   "source": [
    "df = df.dropna(axis=0)"
   ]
  },
  {
   "cell_type": "code",
   "execution_count": 22,
   "metadata": {},
   "outputs": [
    {
     "data": {
      "text/plain": [
       "            Honda                                          767\n",
       "            Yamaha                                         525\n",
       "            Aprilia                                        288\n",
       "            MV Agusta                                      244\n",
       "            Kalex                                          164\n",
       "                                                          ... \n",
       "            Ducados                                          1\n",
       "            Maico                                            1\n",
       "            HD-Yamaha                                        1\n",
       "            Piovaticci-Maico-Maico Piovaticci                1\n",
       "            Motul                                            1\n",
       "Name: constructor, Length: 89, dtype: int64"
      ]
     },
     "execution_count": 22,
     "metadata": {},
     "output_type": "execute_result"
    }
   ],
   "source": [
    "df.constructor.value_counts()"
   ]
  },
  {
   "cell_type": "code",
   "execution_count": 23,
   "metadata": {},
   "outputs": [
    {
     "data": {
      "text/plain": [
       "'Thailand'"
      ]
     },
     "execution_count": 23,
     "metadata": {},
     "output_type": "execute_result"
    }
   ],
   "source": [
    "import pycountry\n",
    "pycountry.countries.get(alpha_2=str(\"TH\").lower()).name"
   ]
  },
  {
   "cell_type": "code",
   "execution_count": 24,
   "metadata": {},
   "outputs": [],
   "source": [
    "import country_converter as coco\n"
   ]
  },
  {
   "cell_type": "code",
   "execution_count": 25,
   "metadata": {},
   "outputs": [
    {
     "data": {
      "text/plain": [
       "IT    886\n",
       "ES    702\n",
       "GB    386\n",
       "DE    190\n",
       "AU    189\n",
       "JP    181\n",
       "US    173\n",
       "FR     98\n",
       "CH     83\n",
       "NL     57\n",
       "ZA     57\n",
       "FI     42\n",
       "VE     35\n",
       "IE     24\n",
       "NZ     22\n",
       "SE     20\n",
       "BR     18\n",
       "PT     17\n",
       "SM     16\n",
       "AT     13\n",
       "HU     13\n",
       "AR      9\n",
       "BE      8\n",
       "CA      3\n",
       "CZ      3\n",
       "MT      2\n",
       "TH      1\n",
       "TR      1\n",
       "Name: country, dtype: int64"
      ]
     },
     "execution_count": 25,
     "metadata": {},
     "output_type": "execute_result"
    }
   ],
   "source": [
    "df.country.value_counts()"
   ]
  },
  {
   "cell_type": "code",
   "execution_count": 26,
   "metadata": {},
   "outputs": [
    {
     "data": {
      "text/plain": [
       "0"
      ]
     },
     "execution_count": 26,
     "metadata": {},
     "output_type": "execute_result"
    }
   ],
   "source": [
    "df.country.isna().sum()"
   ]
  },
  {
   "cell_type": "code",
   "execution_count": 27,
   "metadata": {},
   "outputs": [
    {
     "data": {
      "text/plain": [
       "0       ESss\n",
       "1       ESss\n",
       "2       ESss\n",
       "3       JPss\n",
       "4       ITss\n",
       "        ... \n",
       "3347    ITss\n",
       "3348    GBss\n",
       "3349    GBss\n",
       "3350    GBss\n",
       "3351    IEss\n",
       "Name: country, Length: 3249, dtype: object"
      ]
     },
     "execution_count": 27,
     "metadata": {},
     "output_type": "execute_result"
    }
   ],
   "source": [
    "df.country.apply(lambda x: f\"{x}ss\")"
   ]
  },
  {
   "cell_type": "code",
   "execution_count": 28,
   "metadata": {},
   "outputs": [],
   "source": [
    "df[\"country\"] = df.country.apply(lambda x: pycountry.countries.get(alpha_2=x).name)"
   ]
  },
  {
   "cell_type": "code",
   "execution_count": 29,
   "metadata": {},
   "outputs": [
    {
     "data": {
      "text/html": [
       "<div>\n",
       "<style scoped>\n",
       "    .dataframe tbody tr th:only-of-type {\n",
       "        vertical-align: middle;\n",
       "    }\n",
       "\n",
       "    .dataframe tbody tr th {\n",
       "        vertical-align: top;\n",
       "    }\n",
       "\n",
       "    .dataframe thead th {\n",
       "        text-align: right;\n",
       "    }\n",
       "</style>\n",
       "<table border=\"1\" class=\"dataframe\">\n",
       "  <thead>\n",
       "    <tr style=\"text-align: right;\">\n",
       "      <th></th>\n",
       "      <th>name</th>\n",
       "      <th>season</th>\n",
       "      <th>country</th>\n",
       "      <th>circuit</th>\n",
       "      <th>constructor</th>\n",
       "      <th>ride_class</th>\n",
       "    </tr>\n",
       "  </thead>\n",
       "  <tbody>\n",
       "    <tr>\n",
       "      <th>0</th>\n",
       "      <td>Pedro Acosta</td>\n",
       "      <td>2023</td>\n",
       "      <td>Spain</td>\n",
       "      <td>Circuit Of The Americas</td>\n",
       "      <td>Kalex</td>\n",
       "      <td>Moto2™</td>\n",
       "    </tr>\n",
       "    <tr>\n",
       "      <th>1</th>\n",
       "      <td>Ivan Ortolá</td>\n",
       "      <td>2023</td>\n",
       "      <td>Spain</td>\n",
       "      <td>Circuit Of The Americas</td>\n",
       "      <td>KTM</td>\n",
       "      <td>Moto3™</td>\n",
       "    </tr>\n",
       "    <tr>\n",
       "      <th>2</th>\n",
       "      <td>Alex Rins</td>\n",
       "      <td>2023</td>\n",
       "      <td>Spain</td>\n",
       "      <td>Circuit Of The Americas</td>\n",
       "      <td>Honda</td>\n",
       "      <td>MotoGP™</td>\n",
       "    </tr>\n",
       "    <tr>\n",
       "      <th>3</th>\n",
       "      <td>Tatsuki Suzuki</td>\n",
       "      <td>2023</td>\n",
       "      <td>Japan</td>\n",
       "      <td>Termas de Río Hondo</td>\n",
       "      <td>Honda</td>\n",
       "      <td>Moto3™</td>\n",
       "    </tr>\n",
       "    <tr>\n",
       "      <th>4</th>\n",
       "      <td>Tony Arbolino</td>\n",
       "      <td>2023</td>\n",
       "      <td>Italy</td>\n",
       "      <td>Termas de Río Hondo</td>\n",
       "      <td>Kalex</td>\n",
       "      <td>Moto2™</td>\n",
       "    </tr>\n",
       "  </tbody>\n",
       "</table>\n",
       "</div>"
      ],
      "text/plain": [
       "             name  season country                  circuit  \\\n",
       "0    Pedro Acosta    2023   Spain  Circuit Of The Americas   \n",
       "1     Ivan Ortolá    2023   Spain  Circuit Of The Americas   \n",
       "2       Alex Rins    2023   Spain  Circuit Of The Americas   \n",
       "3  Tatsuki Suzuki    2023   Japan      Termas de Río Hondo   \n",
       "4   Tony Arbolino    2023   Italy      Termas de Río Hondo   \n",
       "\n",
       "                   constructor                     ride_class  \n",
       "0              Kalex                         Moto2™            \n",
       "1                KTM                         Moto3™            \n",
       "2              Honda                        MotoGP™            \n",
       "3              Honda                         Moto3™            \n",
       "4              Kalex                         Moto2™            "
      ]
     },
     "execution_count": 29,
     "metadata": {},
     "output_type": "execute_result"
    }
   ],
   "source": [
    "df.head()"
   ]
  },
  {
   "cell_type": "code",
   "execution_count": null,
   "metadata": {},
   "outputs": [],
   "source": []
  }
 ],
 "metadata": {
  "kernelspec": {
   "display_name": "venv",
   "language": "python",
   "name": "python3"
  },
  "language_info": {
   "codemirror_mode": {
    "name": "ipython",
    "version": 3
   },
   "file_extension": ".py",
   "mimetype": "text/x-python",
   "name": "python",
   "nbconvert_exporter": "python",
   "pygments_lexer": "ipython3",
   "version": "3.7.9"
  },
  "orig_nbformat": 4
 },
 "nbformat": 4,
 "nbformat_minor": 2
}
