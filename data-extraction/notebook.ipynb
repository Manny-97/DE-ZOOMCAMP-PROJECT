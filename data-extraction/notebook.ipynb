{
 "cells": [
  {
   "cell_type": "code",
   "execution_count": 1,
   "metadata": {},
   "outputs": [],
   "source": [
    "# Import all necessary libraries\n",
    "import pandas as pd\n",
    "import numpy as np"
   ]
  },
  {
   "cell_type": "code",
   "execution_count": 2,
   "metadata": {},
   "outputs": [
    {
     "data": {
      "text/html": [
       "<div>\n",
       "<style scoped>\n",
       "    .dataframe tbody tr th:only-of-type {\n",
       "        vertical-align: middle;\n",
       "    }\n",
       "\n",
       "    .dataframe tbody tr th {\n",
       "        vertical-align: top;\n",
       "    }\n",
       "\n",
       "    .dataframe thead th {\n",
       "        text-align: right;\n",
       "    }\n",
       "</style>\n",
       "<table border=\"1\" class=\"dataframe\">\n",
       "  <thead>\n",
       "    <tr style=\"text-align: right;\">\n",
       "      <th></th>\n",
       "      <th>name</th>\n",
       "      <th>season</th>\n",
       "      <th>country</th>\n",
       "      <th>circuit</th>\n",
       "      <th>constructor</th>\n",
       "      <th>ride_class</th>\n",
       "    </tr>\n",
       "  </thead>\n",
       "  <tbody>\n",
       "    <tr>\n",
       "      <th>0</th>\n",
       "      <td>Francesco Bagnaia</td>\n",
       "      <td>2023</td>\n",
       "      <td>IT</td>\n",
       "      <td>Circuito de Jerez - Ángel Nieto</td>\n",
       "      <td>Ducati</td>\n",
       "      <td>MotoGP™</td>\n",
       "    </tr>\n",
       "    <tr>\n",
       "      <th>1</th>\n",
       "      <td>Ivan Ortolá</td>\n",
       "      <td>2023</td>\n",
       "      <td>ES</td>\n",
       "      <td>Circuito de Jerez - Ángel Nieto</td>\n",
       "      <td>KTM</td>\n",
       "      <td>Moto3™</td>\n",
       "    </tr>\n",
       "    <tr>\n",
       "      <th>2</th>\n",
       "      <td>Sam Lowes</td>\n",
       "      <td>2023</td>\n",
       "      <td>GB</td>\n",
       "      <td>Circuito de Jerez - Ángel Nieto</td>\n",
       "      <td>Kalex</td>\n",
       "      <td>Moto2™</td>\n",
       "    </tr>\n",
       "    <tr>\n",
       "      <th>3</th>\n",
       "      <td>Alex Rins</td>\n",
       "      <td>2023</td>\n",
       "      <td>ES</td>\n",
       "      <td>Circuit Of The Americas</td>\n",
       "      <td>Honda</td>\n",
       "      <td>MotoGP™</td>\n",
       "    </tr>\n",
       "    <tr>\n",
       "      <th>4</th>\n",
       "      <td>Ivan Ortolá</td>\n",
       "      <td>2023</td>\n",
       "      <td>ES</td>\n",
       "      <td>Circuit Of The Americas</td>\n",
       "      <td>KTM</td>\n",
       "      <td>Moto3™</td>\n",
       "    </tr>\n",
       "  </tbody>\n",
       "</table>\n",
       "</div>"
      ],
      "text/plain": [
       "                name  season country                          circuit  \\\n",
       "0  Francesco Bagnaia    2023      IT  Circuito de Jerez - Ángel Nieto   \n",
       "1        Ivan Ortolá    2023      ES  Circuito de Jerez - Ángel Nieto   \n",
       "2          Sam Lowes    2023      GB  Circuito de Jerez - Ángel Nieto   \n",
       "3          Alex Rins    2023      ES          Circuit Of The Americas   \n",
       "4        Ivan Ortolá    2023      ES          Circuit Of The Americas   \n",
       "\n",
       "                    constructor                     ride_class  \n",
       "0              Ducati                        MotoGP™            \n",
       "1                 KTM                         Moto3™            \n",
       "2               Kalex                         Moto2™            \n",
       "3               Honda                        MotoGP™            \n",
       "4                 KTM                         Moto3™            "
      ]
     },
     "execution_count": 2,
     "metadata": {},
     "output_type": "execute_result"
    }
   ],
   "source": [
    "df = pd.read_csv(\"data/raw/motogp.csv\", encoding=None)\n",
    "df.head()"
   ]
  },
  {
   "cell_type": "code",
   "execution_count": 3,
   "metadata": {},
   "outputs": [
    {
     "data": {
      "text/plain": [
       "(3355, 6)"
      ]
     },
     "execution_count": 3,
     "metadata": {},
     "output_type": "execute_result"
    }
   ],
   "source": [
    "df.shape"
   ]
  },
  {
   "cell_type": "code",
   "execution_count": 4,
   "metadata": {},
   "outputs": [
    {
     "name": "stdout",
     "output_type": "stream",
     "text": [
      "<class 'pandas.core.frame.DataFrame'>\n",
      "RangeIndex: 3355 entries, 0 to 3354\n",
      "Data columns (total 6 columns):\n",
      " #   Column       Non-Null Count  Dtype \n",
      "---  ------       --------------  ----- \n",
      " 0   name         3355 non-null   object\n",
      " 1   season       3355 non-null   int64 \n",
      " 2   country      3281 non-null   object\n",
      " 3   circuit      3355 non-null   object\n",
      " 4   constructor  3325 non-null   object\n",
      " 5   ride_class   3355 non-null   object\n",
      "dtypes: int64(1), object(5)\n",
      "memory usage: 157.4+ KB\n"
     ]
    }
   ],
   "source": [
    "df.info()"
   ]
  },
  {
   "cell_type": "code",
   "execution_count": 5,
   "metadata": {},
   "outputs": [
    {
     "data": {
      "text/plain": [
       "count     3281\n",
       "unique      28\n",
       "top         IT\n",
       "freq       887\n",
       "Name: country, dtype: object"
      ]
     },
     "execution_count": 5,
     "metadata": {},
     "output_type": "execute_result"
    }
   ],
   "source": [
    "df.country.describe()"
   ]
  },
  {
   "cell_type": "code",
   "execution_count": 6,
   "metadata": {},
   "outputs": [],
   "source": [
    "df = df.dropna(axis=0)"
   ]
  },
  {
   "cell_type": "code",
   "execution_count": 7,
   "metadata": {},
   "outputs": [
    {
     "data": {
      "text/plain": [
       "            Honda                    764\n",
       "            Yamaha                   525\n",
       "            Aprilia                  290\n",
       "            MV Agusta                244\n",
       "            Kalex                    166\n",
       "                                    ... \n",
       "            Rotax                      1\n",
       "            AGV                        1\n",
       "            Rotax Real                 1\n",
       "            MBA/Garelli                1\n",
       "            Motul                      1\n",
       "Name: constructor, Length: 89, dtype: int64"
      ]
     },
     "execution_count": 7,
     "metadata": {},
     "output_type": "execute_result"
    }
   ],
   "source": [
    "df.constructor.value_counts()"
   ]
  },
  {
   "cell_type": "code",
   "execution_count": 8,
   "metadata": {},
   "outputs": [
    {
     "data": {
      "text/plain": [
       "'Thailand'"
      ]
     },
     "execution_count": 8,
     "metadata": {},
     "output_type": "execute_result"
    }
   ],
   "source": [
    "import pycountry\n",
    "pycountry.countries.get(alpha_2=str(\"TH\").lower()).name"
   ]
  },
  {
   "cell_type": "code",
   "execution_count": 9,
   "metadata": {},
   "outputs": [],
   "source": [
    "import country_converter as coco\n"
   ]
  },
  {
   "cell_type": "code",
   "execution_count": 10,
   "metadata": {},
   "outputs": [
    {
     "data": {
      "text/plain": [
       "IT    886\n",
       "ES    702\n",
       "GB    386\n",
       "AU    189\n",
       "DE    189\n",
       "JP    181\n",
       "US    174\n",
       "FR     99\n",
       "CH     83\n",
       "ZA     57\n",
       "NL     57\n",
       "FI     42\n",
       "VE     35\n",
       "IE     24\n",
       "NZ     22\n",
       "SE     20\n",
       "BR     18\n",
       "PT     17\n",
       "SM     16\n",
       "AT     13\n",
       "HU     13\n",
       "BE      9\n",
       "AR      9\n",
       "CA      3\n",
       "CZ      3\n",
       "MY      2\n",
       "TH      1\n",
       "TR      1\n",
       "Name: country, dtype: int64"
      ]
     },
     "execution_count": 10,
     "metadata": {},
     "output_type": "execute_result"
    }
   ],
   "source": [
    "df.country.value_counts()"
   ]
  },
  {
   "cell_type": "code",
   "execution_count": 11,
   "metadata": {},
   "outputs": [
    {
     "data": {
      "text/plain": [
       "0"
      ]
     },
     "execution_count": 11,
     "metadata": {},
     "output_type": "execute_result"
    }
   ],
   "source": [
    "df.country.isna().sum()"
   ]
  },
  {
   "cell_type": "code",
   "execution_count": 12,
   "metadata": {},
   "outputs": [
    {
     "data": {
      "text/plain": [
       "0       ITss\n",
       "1       ESss\n",
       "2       GBss\n",
       "3       ESss\n",
       "4       ESss\n",
       "        ... \n",
       "3350    ITss\n",
       "3351    GBss\n",
       "3352    GBss\n",
       "3353    GBss\n",
       "3354    IEss\n",
       "Name: country, Length: 3251, dtype: object"
      ]
     },
     "execution_count": 12,
     "metadata": {},
     "output_type": "execute_result"
    }
   ],
   "source": [
    "df.country.apply(lambda x: f\"{x}ss\")"
   ]
  },
  {
   "cell_type": "code",
   "execution_count": 13,
   "metadata": {},
   "outputs": [],
   "source": [
    "df[\"country\"] = df.country.apply(lambda x: pycountry.countries.get(alpha_2=x).name)"
   ]
  },
  {
   "cell_type": "code",
   "execution_count": 14,
   "metadata": {},
   "outputs": [
    {
     "data": {
      "text/html": [
       "<div>\n",
       "<style scoped>\n",
       "    .dataframe tbody tr th:only-of-type {\n",
       "        vertical-align: middle;\n",
       "    }\n",
       "\n",
       "    .dataframe tbody tr th {\n",
       "        vertical-align: top;\n",
       "    }\n",
       "\n",
       "    .dataframe thead th {\n",
       "        text-align: right;\n",
       "    }\n",
       "</style>\n",
       "<table border=\"1\" class=\"dataframe\">\n",
       "  <thead>\n",
       "    <tr style=\"text-align: right;\">\n",
       "      <th></th>\n",
       "      <th>name</th>\n",
       "      <th>season</th>\n",
       "      <th>country</th>\n",
       "      <th>circuit</th>\n",
       "      <th>constructor</th>\n",
       "      <th>ride_class</th>\n",
       "    </tr>\n",
       "  </thead>\n",
       "  <tbody>\n",
       "    <tr>\n",
       "      <th>0</th>\n",
       "      <td>Francesco Bagnaia</td>\n",
       "      <td>2023</td>\n",
       "      <td>Italy</td>\n",
       "      <td>Circuito de Jerez - Ángel Nieto</td>\n",
       "      <td>Ducati</td>\n",
       "      <td>MotoGP™</td>\n",
       "    </tr>\n",
       "    <tr>\n",
       "      <th>1</th>\n",
       "      <td>Ivan Ortolá</td>\n",
       "      <td>2023</td>\n",
       "      <td>Spain</td>\n",
       "      <td>Circuito de Jerez - Ángel Nieto</td>\n",
       "      <td>KTM</td>\n",
       "      <td>Moto3™</td>\n",
       "    </tr>\n",
       "    <tr>\n",
       "      <th>2</th>\n",
       "      <td>Sam Lowes</td>\n",
       "      <td>2023</td>\n",
       "      <td>United Kingdom</td>\n",
       "      <td>Circuito de Jerez - Ángel Nieto</td>\n",
       "      <td>Kalex</td>\n",
       "      <td>Moto2™</td>\n",
       "    </tr>\n",
       "    <tr>\n",
       "      <th>3</th>\n",
       "      <td>Alex Rins</td>\n",
       "      <td>2023</td>\n",
       "      <td>Spain</td>\n",
       "      <td>Circuit Of The Americas</td>\n",
       "      <td>Honda</td>\n",
       "      <td>MotoGP™</td>\n",
       "    </tr>\n",
       "    <tr>\n",
       "      <th>4</th>\n",
       "      <td>Ivan Ortolá</td>\n",
       "      <td>2023</td>\n",
       "      <td>Spain</td>\n",
       "      <td>Circuit Of The Americas</td>\n",
       "      <td>KTM</td>\n",
       "      <td>Moto3™</td>\n",
       "    </tr>\n",
       "  </tbody>\n",
       "</table>\n",
       "</div>"
      ],
      "text/plain": [
       "                name  season         country                          circuit  \\\n",
       "0  Francesco Bagnaia    2023           Italy  Circuito de Jerez - Ángel Nieto   \n",
       "1        Ivan Ortolá    2023           Spain  Circuito de Jerez - Ángel Nieto   \n",
       "2          Sam Lowes    2023  United Kingdom  Circuito de Jerez - Ángel Nieto   \n",
       "3          Alex Rins    2023           Spain          Circuit Of The Americas   \n",
       "4        Ivan Ortolá    2023           Spain          Circuit Of The Americas   \n",
       "\n",
       "                    constructor                     ride_class  \n",
       "0              Ducati                        MotoGP™            \n",
       "1                 KTM                         Moto3™            \n",
       "2               Kalex                         Moto2™            \n",
       "3               Honda                        MotoGP™            \n",
       "4                 KTM                         Moto3™            "
      ]
     },
     "execution_count": 14,
     "metadata": {},
     "output_type": "execute_result"
    }
   ],
   "source": [
    "df.head()"
   ]
  },
  {
   "cell_type": "code",
   "execution_count": null,
   "metadata": {},
   "outputs": [],
   "source": []
  }
 ],
 "metadata": {
  "kernelspec": {
   "display_name": "venv",
   "language": "python",
   "name": "python3"
  },
  "language_info": {
   "codemirror_mode": {
    "name": "ipython",
    "version": 3
   },
   "file_extension": ".py",
   "mimetype": "text/x-python",
   "name": "python",
   "nbconvert_exporter": "python",
   "pygments_lexer": "ipython3",
   "version": "3.7.9"
  },
  "orig_nbformat": 4
 },
 "nbformat": 4,
 "nbformat_minor": 2
}
